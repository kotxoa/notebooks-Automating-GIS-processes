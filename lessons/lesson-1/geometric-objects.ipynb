{
 "cells": [
  {
   "cell_type": "markdown",
   "id": "de9597ac",
   "metadata": {},
   "source": [
    "# Shapely and geometric objects\n",
    "\n",
    "In this lesson, you will learn how to create and manipulate geometries in Python\n",
    "using the [Shapely Python\n",
    "Package](https://shapely.readthedocs.io/en/stable/manual.html).\n",
    "\n",
    "**Sources:** Parts of this chapter are based on [shapely’s\n",
    "documentation](https://shapely.readthedocs.io/) and on chapter 3 of [Westra E.\n",
    "(2013)](https://www.packtpub.com/application-development/python-geospatial-development-second-edition).\n",
    "\n",
    "\n",
    "## Spatial data model\n",
    "\n",
    ":::{figure} https://raw.githubusercontent.com/Automating-GIS-processes/site/41a2c8d/docs/static/images/lesson-1/simple-features_595x500px.svg\n",
    ":alt: Spatial data model\n",
    "\n",
    "Fundamental geometric objects (‘simple features’) that can be used in Python\n",
    "with [shapely](https://shapely.readthedocs.io/). <br /> *(Figures by M. W.\n",
    "Toews; cf. [Wikipedia’s article on GeoJSON](https://en.wikipedia.org/wiki/GeoJSON))*\n",
    ":::\n",
    "\n",
    "All geospatial vector data can be described by a combining a set of fundamental\n",
    "geometric objects: **points**, **lines**, and **polygons** are the basic\n",
    "ingredients of working with spatial data.\n",
    "\n",
    "In Python, the library package [shapely](https://shapely.readthedocs.io/) has\n",
    "become the standard tool for working with geo-spatial objects, and for carruing\n",
    "out a range of geometric operations. A basic understanding of how *shapely*\n",
    "works is paramount for using higher-level tools, such as, for instance,\n",
    "[geopandas](https://geopandas.pydata.org/) (see [lesson 2](../lesson-2/overview))\n",
    "that handles entire data sets of geographic information (a.k.a. ‘layers’).\n",
    "\n",
    "\n",
    "Shapely, like the vast majority of geospatial software, follows the data model\n",
    "set forward in the [Open Geospatial Consortium’s *Simple Feature Access*\n",
    "standard](https://www.ogc.org/standards/sfa). In this chapter, we use the\n",
    "terminology used by *shapely*, but the general concepts are applicable much more\n",
    "widely.\n",
    "\n",
    "\n",
    "### Geometric objects are described and constructed by *coordinate tuples*\n",
    "\n",
    "Even more fundamental than that, **coordinate tuples** are what is used to\n",
    "define the geometric fundamentals point, line, and polygon. Coordinate tuples\n",
    "typically are either two-dimensional `(x, y)`, or three-dimensional `(x, y, z)`.\n",
    "\n",
    ":::{admonition} Tuples\n",
    ":class: info\n",
    "\n",
    "A [tuple](https://docs.python.org/3/tutorial/datastructures.html#tuples-and-sequences)\n",
    "is a Python data structure that consists of a number of values separated by\n",
    "commas. Coordinate pairs are often represented as a tuple. For example,\n",
    "`(60.192059, 24.945831)` is a tuple with two values, `(1,)` a tuple with one\n",
    "value (note the comma that distinguishes a one-value tuple from a mathematical\n",
    "expression in parentheses), and `tuple([1, 2, 3])` converts (‘casts’) a `list`\n",
    "into a `tuple`.\n",
    "\n",
    "Tuples belong to the [sequence data\n",
    "types](https://docs.python.org/3/library/stdtypes.html#typesseq) in Python.\n",
    "Other sequence data types are lists and ranges. Tuples have many similarities\n",
    "with lists and ranges, but they are often used for different purposes.\n",
    "\n",
    "The main difference between tuples and lists is that tuples are\n",
    "[immutable](https://docs.python.org/3/glossary.html#term-immutable), which means\n",
    "that the contents of a tuple cannot be altered (while lists are mutable; you\n",
    "can, for example, add and remove values from lists).\n",
    "\n",
    ":::\n",
    "\n",
    "### Points\n",
    "\n",
    "**Point** geometries represent a singular point (in two- or three-dimensional\n",
    "Euclidean space). Points are defined by a single coordinate tuple.\n",
    "\n",
    "### LineStrings\n",
    "\n",
    "**LineString** geometries (and the related **LinearRing**s) represent lines.\n",
    "They are defined by a sequence of points. By connecting the points in order,\n",
    "a line is formed, if the first and last point are the same, a linear ring.\n",
    "Consequently, to describe a *LineString*, at least two points are necessary, \n",
    "for a *LinearRing* at least three (first and last being identical).\n",
    "\n",
    "### Polygons\n",
    "\n",
    "Finally, **Polygon** geometries represent an area. A polygon is defined by\n",
    "exactly one *LinearRing* as its circumference, and any number of additional\n",
    "*LinearRing*s representing holes that are cut out. As such, at minimum, three\n",
    "coordinate tuples are needed to define a Polygon (but it becomes more difficult\n",
    "quickly, as, naturally, the coordinates that define the holes have to lie within\n",
    "the exterior *LinearRing*, and also must not intersect each other).\n",
    "\n",
    "\n",
    "### Collections of geometric objects\n",
    "\n",
    "All of the fundamental geometric types can be combined to represent more complex\n",
    "geographic features, such as, for instance, administrative areas that consist of\n",
    "multiple discontinuous regions:\n",
    "\n",
    "\n",
    ":::{figure} https://raw.githubusercontent.com/Automating-GIS-processes/site/41a2c8d/docs/static/images/lesson-1/multipolygons_595x300px.svg\n",
    ":name: MultiPolygons\n",
    ":alt: A map of Austria showing that the province of Tyrol consists of two\n",
    "\n",
    "*Tyrol*, a federal state of Austria, is a **MultiPolygon**. *(Data: [Statistics\n",
    "Austria](https://data.statistik.gv.at/web/meta.jsp?dataset=OGDEXT_GEM_1))*\n",
    ":::\n",
    "\n",
    "\n",
    "- **MultiPoint** geometries represent collections of points.\n",
    "- **MultiLineString** geometries represent collections of lines.\n",
    "- **MultiPolygon** geometries represent collections of polygons.\n",
    "- **GeometryCollection** geometries are collections of points,\n",
    "  lines, and polygons, as well as multi-points, multi-lines,\n",
    "  and multi-polygons.\n",
    "\n",
    "\n",
    "## Using shapely to create, access, manipulate and analyse geometric objects\n",
    "\n",
    "Shapely can perform many useful operations on geometries, and provides a range\n",
    "of attributes of geometries. For instance, you can:\n",
    "- create lines and polygons from a set of points\n",
    "- calculate the area, length, perimeter, etc., of geometries\n",
    "- perform geometric operations on a set of geometries, for instance, merging\n",
    "  (`union`), subtracting (`difference`), or calculating the distance between\n",
    "  geometries.\n",
    "- query the relationship between geometries, i.e., find out whether two\n",
    "  geometries intersect, touch, cross, etc.\n",
    "\n",
    "\n",
    "### Creating `Point` geometries and accessing their properties\n",
    "\n",
    "Creating a point geometry object is easy: simply pass coordinates (x, y, and\n",
    "possibly z) to its [constructor](https://pythonbasics.org/constructor/)."
   ]
  },
  {
   "cell_type": "code",
   "execution_count": 1,
   "id": "93c7b982",
   "metadata": {},
   "outputs": [],
   "source": [
    "# Import 'shapely.geometry.Point' class\n",
    "from shapely.geometry import Point\n",
    "\n",
    "# Create 'Point' objects:\n",
    "point1 = Point(2.2, 4.2)\n",
    "point2 = Point(7.2, -25.1)\n",
    "point3 = Point(9.26, -2.456)\n",
    "point4_3D = Point(9.26, -2.456, 0.57)"
   ]
  },
  {
   "cell_type": "markdown",
   "id": "23d1c8a5",
   "metadata": {},
   "source": [
    "Let’s see what these variables now contain:"
   ]
  },
  {
   "cell_type": "code",
   "execution_count": 2,
   "id": "e3fe7689",
   "metadata": {},
   "outputs": [
    {
     "data": {
      "image/svg+xml": [
       "<svg xmlns=\"http://www.w3.org/2000/svg\" xmlns:xlink=\"http://www.w3.org/1999/xlink\" width=\"100.0\" height=\"100.0\" viewBox=\"1.2000000000000002 3.2 2.0 2.0\" preserveAspectRatio=\"xMinYMin meet\"><g transform=\"matrix(1,0,0,-1,0,8.4)\"><circle cx=\"2.2\" cy=\"4.2\" r=\"0.06\" stroke=\"#555555\" stroke-width=\"0.02\" fill=\"#66cc99\" opacity=\"0.6\" /></g></svg>"
      ],
      "text/plain": [
       "<shapely.geometry.point.Point at 0x7f47252ced70>"
      ]
     },
     "execution_count": 2,
     "metadata": {},
     "output_type": "execute_result"
    }
   ],
   "source": [
    "point1"
   ]
  },
  {
   "cell_type": "markdown",
   "id": "9bf19300",
   "metadata": {},
   "source": [
    "As we can see, Jupyter notebook is able to display the shape directly on the screen.\n",
    "\n",
    "Alternatively, use a `print` statement to show the text representation of a\n",
    "shapely geometry object:"
   ]
  },
  {
   "cell_type": "code",
   "execution_count": 3,
   "id": "17022bc7",
   "metadata": {},
   "outputs": [
    {
     "name": "stdout",
     "output_type": "stream",
     "text": [
      "POINT (2.2 4.2)\n",
      "POINT Z (9.26 -2.456 0.57)\n"
     ]
    }
   ],
   "source": [
    "print(point1)\n",
    "print(point4_3D)"
   ]
  },
  {
   "cell_type": "markdown",
   "id": "2cad1ba0",
   "metadata": {},
   "source": [
    "This text representation is in [‘Well-Known Text’ (WKT)\n",
    "format](https://en.wikipedia.org/wiki/Well-Known_Text/), a standard set forward\n",
    "in the [Open Geospatial Consortium’s (OGC)](https://www.ogc.org/) [*Simple\n",
    "Feature Access*](https://www.ogc.org/standards/sfa) (see above). This includes\n",
    "the additional letter ‘Z’ that marks the three-dimensional version of a\n",
    "geometry (e.g., our point `point4_3D`).\n",
    "\n",
    "\n",
    "Let’s also check the data type of a point:"
   ]
  },
  {
   "cell_type": "code",
   "execution_count": 4,
   "id": "2b875356",
   "metadata": {},
   "outputs": [
    {
     "data": {
      "text/plain": [
       "shapely.geometry.point.Point"
      ]
     },
     "execution_count": 4,
     "metadata": {},
     "output_type": "execute_result"
    }
   ],
   "source": [
    "type(point1)"
   ]
  },
  {
   "cell_type": "markdown",
   "id": "caab3535",
   "metadata": {},
   "source": [
    "We can see that the type of the point is a `shapely.geometry.point.Point`\n",
    "(which is equivalent to `shapely.geometry.Point`, the class we used to\n",
    "instantiate the point object). \n",
    "\n",
    "Under the hood, shapely uses [GEOS](https://osgeo.org/projects/geos/) to handle\n",
    "geometry objects. GEOS is a C++ library (much faster than Python code), and is\n",
    "one of the fundamental pillars of the open source GIS world, powering\n",
    "geospatial processing for many projects, including [QGIS](https://qgis.org/).\n",
    "\n",
    "\n",
    "### Point properties and methods\n",
    "\n",
    "Points and other shapely geometry objects have useful built-in [properties and\n",
    "methods](https://shapely.readthedocs.io/en/stable/manual.html#general-attributes-and-methods).\n",
    "Using the available attributes, we can for example extract the coordinate\n",
    "values of a Point and calculate the Euclidian distance between points.\n",
    "\n",
    "The `geom_type` property contains information about the geometry type of a\n",
    "shapely geometry:"
   ]
  },
  {
   "cell_type": "code",
   "execution_count": 5,
   "id": "6ee5eb68",
   "metadata": {},
   "outputs": [
    {
     "data": {
      "text/plain": [
       "'Point'"
      ]
     },
     "execution_count": 5,
     "metadata": {},
     "output_type": "execute_result"
    }
   ],
   "source": [
    "point1.geom_type"
   ]
  },
  {
   "cell_type": "markdown",
   "id": "661dbb26",
   "metadata": {},
   "source": [
    "There are multiple ways to access the coordinates of geometry object. For\n",
    "instance, `coords` is a `spapely.coords.CoordinateSequence`. It is an\n",
    "`Iterator`, an efficient Python data structure to iterate over lists of items,\n",
    "but for now we can simply convert it into a list of the (one pair of)\n",
    "coordinates:"
   ]
  },
  {
   "cell_type": "code",
   "execution_count": 6,
   "id": "2d54ce73",
   "metadata": {},
   "outputs": [
    {
     "data": {
      "text/plain": [
       "[(2.2, 4.2)]"
      ]
     },
     "execution_count": 6,
     "metadata": {},
     "output_type": "execute_result"
    }
   ],
   "source": [
    "# Get coordinate tuple(s)\n",
    "list(point1.coords)"
   ]
  },
  {
   "cell_type": "markdown",
   "id": "9ab52782",
   "metadata": {},
   "source": [
    "However, since points, by definition, only contain one coordinate tuple,\n",
    "`shapely.geometry.Point`s have properties to *directly* access its coordinate\n",
    "values: the properties `x`, `y`, and (possibly) `z`, which are basic `float`\n",
    "type decimal numbers."
   ]
  },
  {
   "cell_type": "code",
   "execution_count": 7,
   "id": "45a7be59",
   "metadata": {},
   "outputs": [
    {
     "name": "stdout",
     "output_type": "stream",
     "text": [
      "2.2 4.2\n"
     ]
    }
   ],
   "source": [
    "# Read x and y coordinates separately\n",
    "x = point1.x\n",
    "y = point1.y\n",
    "\n",
    "print(x, y)"
   ]
  },
  {
   "cell_type": "code",
   "execution_count": 8,
   "id": "57b8a2a4",
   "metadata": {},
   "outputs": [
    {
     "name": "stdout",
     "output_type": "stream",
     "text": [
      "9.26 -2.456 0.57\n"
     ]
    }
   ],
   "source": [
    "# Read x, y, and z\n",
    "x = point4_3D.x\n",
    "y = point4_3D.y\n",
    "z = point4_3D.z\n",
    "\n",
    "print(x, y, z)"
   ]
  },
  {
   "cell_type": "markdown",
   "id": "6b71680d",
   "metadata": {},
   "source": [
    "It is also possible to calculate the distance between two objects using the\n",
    "[distance](https://shapely.readthedocs.io/en/stable/manual.html#object.distance)\n",
    "method.\n",
    "\n",
    "In our example the distance is calculated in a cartesian coordinate system.\n",
    "When working with real GIS data the distance is based on the used coordinate\n",
    "reference system. always check what is the unit of measurement (for example,\n",
    "meters) in the coordinate reference system you are using.\n",
    "\n",
    "Let’s calculate the distance between `point1` and `point2`:"
   ]
  },
  {
   "cell_type": "code",
   "execution_count": 9,
   "id": "fb8cc99e",
   "metadata": {},
   "outputs": [
    {
     "name": "stdout",
     "output_type": "stream",
     "text": [
      "POINT (2.2 4.2)\n",
      "POINT (7.2 -25.1)\n"
     ]
    }
   ],
   "source": [
    "# Check input data\n",
    "print(point1)\n",
    "print(point2)"
   ]
  },
  {
   "cell_type": "code",
   "execution_count": 10,
   "id": "f6d83cff",
   "metadata": {},
   "outputs": [
    {
     "name": "stdout",
     "output_type": "stream",
     "text": [
      "Distance between the points is 29.72 units\n"
     ]
    }
   ],
   "source": [
    "# Calculate the distance between point1 and point2\n",
    "dist = point1.distance(point2)\n",
    "\n",
    "# Print out a nicely formatted info message\n",
    "print(f\"Distance between the points is {dist:.2f} units\")"
   ]
  },
  {
   "cell_type": "markdown",
   "id": "85d8644f",
   "metadata": {},
   "source": [
    ":::{caution}\n",
    "\n",
    "Shapely geometries are, by design, agnostic (unaware) of the reference system\n",
    "used to represent them. Distances and surface area calculated using the\n",
    "built-in shapely methods will always:\n",
    "a) assume a flat, Cartesian, Euclidean space, and \n",
    "b) return the calculated value in the unit of the coordinates (e.g.,\n",
    "   meters, or degrees).\n",
    "\n",
    "This is perfectly fine for small-scale geo-spatial operations, if you **keep\n",
    "yourself aware of the expected output unit**. Most packages built on top of\n",
    "shapely, for instance [GeoPandas](https://geopandas.org/), which we will get to\n",
    "know in lesson 2, bring their own functions and take the coordinate reference\n",
    "system into consideration.\n",
    "\n",
    ":::\n",
    "\n",
    "\n",
    "\n",
    "## Lines\n",
    "\n",
    "\n",
    "Creating `LineString` objects is similar to creating `Points`. Instead of a\n",
    "single coordinate tuple, we pass a list of coordinate tuples, or a list of\n",
    "points, that make up the line:"
   ]
  },
  {
   "cell_type": "code",
   "execution_count": 11,
   "id": "a42d782d",
   "metadata": {},
   "outputs": [],
   "source": [
    "# import the LineString class\n",
    "from shapely.geometry import LineString\n",
    "\n",
    "# Create a LineString from our Point objects\n",
    "line = LineString([point1, point2, point3])"
   ]
  },
  {
   "cell_type": "code",
   "execution_count": 16,
   "id": "f2e036c0",
   "metadata": {},
   "outputs": [],
   "source": [
    "# Create a LineString from a list of coordinates:\n",
    "# (with the same coordinate values as the points, so results should be identical)\n",
    "line2 = LineString([(2.2, 4.2), (7.2, -25.1), (9.26, -2.456)])"
   ]
  },
  {
   "cell_type": "code",
   "execution_count": 17,
   "id": "394fce79",
   "metadata": {},
   "outputs": [
    {
     "data": {
      "text/plain": [
       "True"
      ]
     },
     "execution_count": 17,
     "metadata": {},
     "output_type": "execute_result"
    }
   ],
   "source": [
    "# Check if the lines are, indeed, identical:\n",
    "line == line2\n"
   ]
  },
  {
   "cell_type": "markdown",
   "id": "e2231e8c",
   "metadata": {},
   "source": [
    "Let’s see how our line looks like:"
   ]
  },
  {
   "cell_type": "code",
   "execution_count": 18,
   "id": "cc05a491",
   "metadata": {},
   "outputs": [
    {
     "data": {
      "image/svg+xml": [
       "<svg xmlns=\"http://www.w3.org/2000/svg\" xmlns:xlink=\"http://www.w3.org/1999/xlink\" width=\"100.0\" height=\"100.0\" viewBox=\"1.028 -26.272000000000002 9.404 31.644000000000002\" preserveAspectRatio=\"xMinYMin meet\"><g transform=\"matrix(1,0,0,-1,0,-20.900000000000002)\"><polyline fill=\"none\" stroke=\"#66cc99\" stroke-width=\"0.63288\" points=\"2.2,4.2 7.2,-25.1 9.26,-2.456\" opacity=\"0.8\" /></g></svg>"
      ],
      "text/plain": [
       "<shapely.geometry.linestring.LineString at 0x7f47252cecb0>"
      ]
     },
     "execution_count": 18,
     "metadata": {},
     "output_type": "execute_result"
    }
   ],
   "source": [
    "line"
   ]
  },
  {
   "cell_type": "code",
   "execution_count": 19,
   "id": "7d12fb9b",
   "metadata": {},
   "outputs": [
    {
     "name": "stdout",
     "output_type": "stream",
     "text": [
      "LINESTRING (2.2 4.2, 7.2 -25.1, 9.26 -2.456)\n"
     ]
    }
   ],
   "source": [
    "print(line)"
   ]
  },
  {
   "cell_type": "markdown",
   "id": "928232a3",
   "metadata": {},
   "source": [
    "Again, the text representation is in WKT format. WKT is convenient as it is a\n",
    "human-readable text format that also most GIS tools can readily use. \n",
    "\n",
    "It’s not surprising, but we can see that a `LineString` is constituted of\n",
    "multiple coordinate tuples. In fact, the value(s) of a WKT `LINESTRING` are made\n",
    "up of the values of multiple WKT `POINTS`, joined together with a comma.\n",
    "\n",
    "Check also the data type:"
   ]
  },
  {
   "cell_type": "code",
   "execution_count": 20,
   "id": "62ad0904",
   "metadata": {},
   "outputs": [
    {
     "data": {
      "text/plain": [
       "shapely.geometry.linestring.LineString"
      ]
     },
     "execution_count": 20,
     "metadata": {},
     "output_type": "execute_result"
    }
   ],
   "source": [
    "# Check data type of the line object\n",
    "type(line)"
   ]
  },
  {
   "cell_type": "code",
   "execution_count": 21,
   "id": "440e952a",
   "metadata": {},
   "outputs": [
    {
     "data": {
      "text/plain": [
       "'LineString'"
      ]
     },
     "execution_count": 21,
     "metadata": {},
     "output_type": "execute_result"
    }
   ],
   "source": [
    "# Check geometry type of the line object\n",
    "line.geom_type"
   ]
  },
  {
   "cell_type": "markdown",
   "id": "364f773d",
   "metadata": {},
   "source": [
    "### `LineString` properties and methods\n",
    "\n",
    "Linear geometries in their shapely representations (`LineString`, `LinearRing`,\n",
    "`MultiLineString`) have a variety of properties and methods that expose useful\n",
    "functionality. For instance, it is possible to access a geometry’s coordinates,\n",
    "calculate its lengths, find its centre point, create points along the line at a\n",
    "specified interval, or compute the closest distance between a line an another\n",
    "geometry. \n",
    "\n",
    "\n",
    ":::{tip}\n",
    "\n",
    "Consult the [Shapely user\n",
    "manual](https://shapely.readthedocs.io/en/stable/manual.html) for a complete\n",
    "list of geometry attributes and operations on one or more geometries.\n",
    "\n",
    ":::\n",
    "\n",
    "\n",
    "Fundamentally, accessing the coordinates of a line is very similar as accessing\n",
    "the ones of a point:"
   ]
  },
  {
   "cell_type": "code",
   "execution_count": 22,
   "id": "64a89e23",
   "metadata": {},
   "outputs": [
    {
     "data": {
      "text/plain": [
       "[(2.2, 4.2), (7.2, -25.1), (9.26, -2.456)]"
      ]
     },
     "execution_count": 22,
     "metadata": {},
     "output_type": "execute_result"
    }
   ],
   "source": [
    "# Get coordinate tuples\n",
    "list(line.coords)"
   ]
  },
  {
   "cell_type": "markdown",
   "id": "15ed3b6d",
   "metadata": {},
   "source": [
    "Because a line has to have at least two coordinate tuples, the list now\n",
    "contains more than the one value we saw earlier with points.\n",
    "\n",
    "\n",
    "If you would need to access all x-coordinates or all y-coordinates of the line,\n",
    "you can use its `xy` attribute (an iterator, but, again, for now, we can use\n",
    "them as lists):"
   ]
  },
  {
   "cell_type": "code",
   "execution_count": 23,
   "id": "cda14694",
   "metadata": {},
   "outputs": [
    {
     "name": "stdout",
     "output_type": "stream",
     "text": [
      "[2.2, 7.2, 9.26]\n",
      "[4.2, -25.1, -2.456]\n"
     ]
    }
   ],
   "source": [
    "# Obtain x and y coordinates\n",
    "xcoords = list(line.xy[0])\n",
    "ycoords = list(line.xy[1])\n",
    "\n",
    "print(xcoords)\n",
    "print(ycoords)"
   ]
  },
  {
   "cell_type": "markdown",
   "id": "d5e74693",
   "metadata": {},
   "source": [
    ":::{admonition} 3D-LineStrings\n",
    ":class: warning\n",
    "\n",
    "Note that the `xy` property of shapely geometries does not return `z` values\n",
    "for three-dimensional geometries.\n",
    "\n",
    ":::\n",
    "\n",
    "\n",
    "Other properties of lines that are useful for GIS analyses include the length\n",
    "and the centre point (centroid) of lines:"
   ]
  },
  {
   "cell_type": "code",
   "execution_count": 25,
   "id": "5fa70681",
   "metadata": {},
   "outputs": [
    {
     "name": "stdout",
     "output_type": "stream",
     "text": [
      "Length of our line: 52.5 units\n"
     ]
    }
   ],
   "source": [
    "# Get the length of the line\n",
    "line_length = line.length\n",
    "print(f\"Length of our line: {line_length:.1f} units\")"
   ]
  },
  {
   "cell_type": "code",
   "execution_count": 26,
   "id": "6060339f",
   "metadata": {},
   "outputs": [
    {
     "name": "stdout",
     "output_type": "stream",
     "text": [
      "POINT (6.229961354035622 -11.892411157572392)\n"
     ]
    }
   ],
   "source": [
    "# Get the centre point of the line\n",
    "print(line.centroid)"
   ]
  },
  {
   "cell_type": "markdown",
   "id": "2baa258b",
   "metadata": {},
   "source": [
    "The centroid (or centre *point*) of a line (or any other shapely geometry) is a\n",
    "`shapely.geometry.Point` object.\n",
    "\n",
    "\n",
    "\n",
    "## Polygon\n",
    "\n",
    "Creating a polygon geometry follows the same logic as creating a point or line\n",
    "geometry. However, [as discussed above](#polygons) the rules for what\n",
    "constitutes a polygon are more complex: It is constructed of exactly one linear\n",
    "ring forming its exterior (perimeter), and any number of additional linear\n",
    "rings forming holes that are cut out of the exterior shell.\n",
    "\n",
    "Consequently, the `shapely.geometry.Polygon` *constructor* function accepts two\n",
    "parameter: the first one, `shell`, is a list of coordinate tuples, a list of\n",
    "points, or a `LinearRing`, and will form the outer hull of the new polygon. The\n",
    "second, optional, parameter `holes` can be a list of holes to cut out of\n",
    "`shell` (the items in the list can be the same data types as `shell`).\n",
    "\n",
    "For now, let’s create a simple polygon without any holes. The first example\n",
    "uses **(at least three) coordinate tuples** (three points are required to form\n",
    "a surface):"
   ]
  },
  {
   "cell_type": "code",
   "execution_count": 27,
   "id": "b2dca0ae",
   "metadata": {},
   "outputs": [],
   "source": [
    "from shapely.geometry import Polygon\n",
    "\n",
    "# Create a Polygon from the coordinates\n",
    "polygon1 = Polygon([(2.2, 4.2), (7.2, -25.1), (9.26, -2.456)])"
   ]
  },
  {
   "cell_type": "markdown",
   "id": "2925478b",
   "metadata": {},
   "source": [
    "We can also construct the polygon directly from a list of points:"
   ]
  },
  {
   "cell_type": "code",
   "execution_count": 28,
   "id": "5090a3c5",
   "metadata": {},
   "outputs": [],
   "source": [
    "polygon2 = Polygon([point1, point2, point3])"
   ]
  },
  {
   "cell_type": "markdown",
   "id": "a15cab11",
   "metadata": {},
   "source": [
    "… or from a [`LinearRing`](https://shapely.readthedocs.io/en/stable/manual.html#linearrings)\n",
    "(which has an [almost identical behaviour](#linestrings) as a `LineString`,\n",
    "except that it is closed, i.e., the first and last point are identical):"
   ]
  },
  {
   "cell_type": "code",
   "execution_count": 29,
   "id": "9f66de93",
   "metadata": {},
   "outputs": [],
   "source": [
    "from shapely.geometry import LinearRing\n",
    "\n",
    "shell = LinearRing([point1, point2, point3, point1])\n",
    "polygon3 = Polygon(shell)"
   ]
  },
  {
   "cell_type": "markdown",
   "id": "4ded460e",
   "metadata": {},
   "source": [
    "(When constructing a `shapely.geometry.LinearRing`, you can omit listing\n",
    "the first point again at the end; shapely will then implicitely add the\n",
    "first point another time to the end of the list of points)\n",
    "\n",
    "We used different methods to construct the three polygons, but we used the\n",
    "same values. Let’s see whether they ended up describing identical geometries:"
   ]
  },
  {
   "cell_type": "code",
   "execution_count": 30,
   "id": "f1cc33e6",
   "metadata": {},
   "outputs": [
    {
     "data": {
      "text/plain": [
       "True"
      ]
     },
     "execution_count": 30,
     "metadata": {},
     "output_type": "execute_result"
    }
   ],
   "source": [
    "polygon1 == polygon2 == polygon3"
   ]
  },
  {
   "cell_type": "markdown",
   "id": "d9b9fd99",
   "metadata": {},
   "source": [
    "Let’s also see how the polygon looks like drawn, and what its text\n",
    "representation is:"
   ]
  },
  {
   "cell_type": "code",
   "execution_count": 31,
   "id": "0c6fa7bb",
   "metadata": {},
   "outputs": [
    {
     "data": {
      "image/svg+xml": [
       "<svg xmlns=\"http://www.w3.org/2000/svg\" xmlns:xlink=\"http://www.w3.org/1999/xlink\" width=\"100.0\" height=\"100.0\" viewBox=\"1.028 -26.272000000000002 9.404 31.644000000000002\" preserveAspectRatio=\"xMinYMin meet\"><g transform=\"matrix(1,0,0,-1,0,-20.900000000000002)\"><path fill-rule=\"evenodd\" fill=\"#66cc99\" stroke=\"#555555\" stroke-width=\"0.63288\" opacity=\"0.6\" d=\"M 2.2,4.2 L 7.2,-25.1 L 9.26,-2.456 L 2.2,4.2 z\" /></g></svg>"
      ],
      "text/plain": [
       "<shapely.geometry.polygon.Polygon at 0x7f4726869c00>"
      ]
     },
     "execution_count": 31,
     "metadata": {},
     "output_type": "execute_result"
    }
   ],
   "source": [
    "polygon1"
   ]
  },
  {
   "cell_type": "code",
   "execution_count": 32,
   "id": "b97bdcfa",
   "metadata": {},
   "outputs": [
    {
     "name": "stdout",
     "output_type": "stream",
     "text": [
      "POLYGON ((2.2 4.2, 7.2 -25.1, 9.26 -2.456, 2.2 4.2))\n"
     ]
    }
   ],
   "source": [
    "print(polygon1)"
   ]
  },
  {
   "cell_type": "markdown",
   "id": "b10a0628",
   "metadata": {},
   "source": [
    "Just like with points and lines, the text representation of a\n",
    "`shapely.geometry.Polygon` is in the Well-Known Text format. Note how a WKT\n",
    "`POLYGON` is made up of the values of one or more WKT `LINEARRING`’s values\n",
    "(closed line strings), in parentheses, and joined together by commas. The first\n",
    "linear ring represents the exterior, all following ones holes.\n",
    "(Our example polygon consists of one linear ring, only, so no need for the comma).\n",
    "\n",
    "\n",
    "Check also the data type:"
   ]
  },
  {
   "cell_type": "code",
   "execution_count": 33,
   "id": "0f7182e8",
   "metadata": {},
   "outputs": [
    {
     "data": {
      "text/plain": [
       "shapely.geometry.polygon.Polygon"
      ]
     },
     "execution_count": 33,
     "metadata": {},
     "output_type": "execute_result"
    }
   ],
   "source": [
    "# Data type\n",
    "type(polygon1)"
   ]
  },
  {
   "cell_type": "code",
   "execution_count": 34,
   "id": "6ddd6670",
   "metadata": {},
   "outputs": [
    {
     "data": {
      "text/plain": [
       "'Polygon'"
      ]
     },
     "execution_count": 34,
     "metadata": {},
     "output_type": "execute_result"
    }
   ],
   "source": [
    "# Geometry type\n",
    "polygon1.geom_type"
   ]
  },
  {
   "cell_type": "markdown",
   "id": "edde8bec",
   "metadata": {},
   "source": [
    ":::{tip}\n",
    "\n",
    "You can always use the built-in `help()` function to find out how a function or\n",
    "class works, which parameters it expects, and what properties and methods you\n",
    "can use:\n",
    "\n",
    ":::"
   ]
  },
  {
   "cell_type": "code",
   "execution_count": null,
   "id": "ba35adbf",
   "metadata": {
    "tags": [
     "hide-output"
    ]
   },
   "outputs": [],
   "source": []
  },
  {
   "cell_type": "markdown",
   "id": "b1560b6e",
   "metadata": {},
   "source": [
    "Let’s still see how to create a polygon with a hole:"
   ]
  },
  {
   "cell_type": "code",
   "execution_count": 36,
   "id": "19a30321",
   "metadata": {},
   "outputs": [],
   "source": [
    "# define the exterior\n",
    "outer = LinearRing([(-180, 90), (-180, -90), (180, -90), (180, 90)])\n",
    "\n",
    "# define a hole:\n",
    "hole = LinearRing([(-170, 80), (-100, -80), (100, -80), (170, 80)])"
   ]
  },
  {
   "cell_type": "markdown",
   "id": "6dae7536",
   "metadata": {},
   "source": [
    "Let’s see how the exterior shell and the hole look like on their own:"
   ]
  },
  {
   "cell_type": "code",
   "execution_count": 37,
   "id": "dda8e10e",
   "metadata": {},
   "outputs": [
    {
     "data": {
      "image/svg+xml": [
       "<svg xmlns=\"http://www.w3.org/2000/svg\" xmlns:xlink=\"http://www.w3.org/1999/xlink\" width=\"300\" height=\"208.8\" viewBox=\"-194.4 -104.4 388.8 208.8\" preserveAspectRatio=\"xMinYMin meet\"><g transform=\"matrix(1,0,0,-1,0,0.0)\"><polyline fill=\"none\" stroke=\"#66cc99\" stroke-width=\"2.592\" points=\"-180.0,90.0 -180.0,-90.0 180.0,-90.0 180.0,90.0 -180.0,90.0\" opacity=\"0.8\" /></g></svg>"
      ],
      "text/plain": [
       "<shapely.geometry.polygon.LinearRing at 0x7f47041d9c30>"
      ]
     },
     "execution_count": 37,
     "metadata": {},
     "output_type": "execute_result"
    }
   ],
   "source": [
    "outer"
   ]
  },
  {
   "cell_type": "code",
   "execution_count": 38,
   "id": "c11e2802",
   "metadata": {},
   "outputs": [
    {
     "data": {
      "image/svg+xml": [
       "<svg xmlns=\"http://www.w3.org/2000/svg\" xmlns:xlink=\"http://www.w3.org/1999/xlink\" width=\"300\" height=\"187.2\" viewBox=\"-183.6 -93.6 367.2 187.2\" preserveAspectRatio=\"xMinYMin meet\"><g transform=\"matrix(1,0,0,-1,0,0.0)\"><polyline fill=\"none\" stroke=\"#66cc99\" stroke-width=\"2.448\" points=\"-170.0,80.0 -100.0,-80.0 100.0,-80.0 170.0,80.0 -170.0,80.0\" opacity=\"0.8\" /></g></svg>"
      ],
      "text/plain": [
       "<shapely.geometry.polygon.LinearRing at 0x7f47041da140>"
      ]
     },
     "execution_count": 38,
     "metadata": {},
     "output_type": "execute_result"
    }
   ],
   "source": [
    "hole"
   ]
  },
  {
   "cell_type": "markdown",
   "id": "f01a2a74",
   "metadata": {},
   "source": [
    "A polygon using only the exterior shell:"
   ]
  },
  {
   "cell_type": "code",
   "execution_count": 39,
   "id": "d2dee46b",
   "metadata": {},
   "outputs": [
    {
     "data": {
      "image/svg+xml": [
       "<svg xmlns=\"http://www.w3.org/2000/svg\" xmlns:xlink=\"http://www.w3.org/1999/xlink\" width=\"300\" height=\"208.8\" viewBox=\"-194.4 -104.4 388.8 208.8\" preserveAspectRatio=\"xMinYMin meet\"><g transform=\"matrix(1,0,0,-1,0,0.0)\"><path fill-rule=\"evenodd\" fill=\"#66cc99\" stroke=\"#555555\" stroke-width=\"2.592\" opacity=\"0.6\" d=\"M -180.0,90.0 L -180.0,-90.0 L 180.0,-90.0 L 180.0,90.0 L -180.0,90.0 z\" /></g></svg>"
      ],
      "text/plain": [
       "<shapely.geometry.polygon.Polygon at 0x7f47041d8670>"
      ]
     },
     "execution_count": 39,
     "metadata": {},
     "output_type": "execute_result"
    }
   ],
   "source": [
    "polygon_without_hole = Polygon(outer)\n",
    "polygon_without_hole"
   ]
  },
  {
   "cell_type": "markdown",
   "id": "61e5aef5",
   "metadata": {},
   "source": [
    "And, finally, a polygon defined by the exterior shell, and one hole\n",
    "(note that `holes` need to be specified as a list):"
   ]
  },
  {
   "cell_type": "code",
   "execution_count": 40,
   "id": "a4776c15",
   "metadata": {},
   "outputs": [
    {
     "data": {
      "image/svg+xml": [
       "<svg xmlns=\"http://www.w3.org/2000/svg\" xmlns:xlink=\"http://www.w3.org/1999/xlink\" width=\"300\" height=\"208.8\" viewBox=\"-194.4 -104.4 388.8 208.8\" preserveAspectRatio=\"xMinYMin meet\"><g transform=\"matrix(1,0,0,-1,0,0.0)\"><path fill-rule=\"evenodd\" fill=\"#66cc99\" stroke=\"#555555\" stroke-width=\"2.592\" opacity=\"0.6\" d=\"M -180.0,90.0 L -180.0,-90.0 L 180.0,-90.0 L 180.0,90.0 L -180.0,90.0 z M -170.0,80.0 L -100.0,-80.0 L 100.0,-80.0 L 170.0,80.0 L -170.0,80.0 z\" /></g></svg>"
      ],
      "text/plain": [
       "<shapely.geometry.polygon.Polygon at 0x7f472686e050>"
      ]
     },
     "execution_count": 40,
     "metadata": {},
     "output_type": "execute_result"
    }
   ],
   "source": [
    "polygon_with_hole = Polygon(outer, [hole])\n",
    "polygon_with_hole"
   ]
  },
  {
   "cell_type": "code",
   "execution_count": 41,
   "id": "14876a3c",
   "metadata": {},
   "outputs": [
    {
     "name": "stdout",
     "output_type": "stream",
     "text": [
      "POLYGON ((-180 90, -180 -90, 180 -90, 180 90, -180 90))\n",
      "POLYGON ((-180 90, -180 -90, 180 -90, 180 90, -180 90), (-170 80, -100 -80, 100 -80, 170 80, -170 80))\n"
     ]
    }
   ],
   "source": [
    "print(polygon_without_hole)\n",
    "print(polygon_with_hole)"
   ]
  },
  {
   "cell_type": "markdown",
   "id": "7abdd52d",
   "metadata": {},
   "source": [
    "### Polygon properties and methods\n",
    "\n",
    "Very similar to lines and points, also `shapely.geometry.Polygon`s expose a\n",
    "number of properties and methods that can be useful for spatial analysis tasks.\n",
    "Consult the [shapely user\n",
    "manual](https://shapely.readthedocs.io/en/stable/manual.html) for a complete\n",
    "list, and see a few examples here:"
   ]
  },
  {
   "cell_type": "code",
   "execution_count": 42,
   "id": "de256c35",
   "metadata": {},
   "outputs": [
    {
     "name": "stdout",
     "output_type": "stream",
     "text": [
      "Polygon centroid: POINT (0 -13.827160493827162)\n",
      "Polygon area: 21600.0\n",
      "Polygon bounding box: (-180.0, -90.0, 180.0, 90.0)\n",
      "Polygon exterior ring: LINEARRING (-180 90, -180 -90, 180 -90, 180 90, -180 90)\n",
      "Polygon interior ring: <shapely.geometry.polygon.InteriorRingSequence object at 0x7f47041d8d60>\n",
      "Polygon circumference: 1080.0\n"
     ]
    }
   ],
   "source": [
    "print(f\"Polygon centroid: {polygon_with_hole.centroid}\")\n",
    "print(f\"Polygon area: {polygon_with_hole.area}\")\n",
    "print(f\"Polygon bounding box: {polygon_with_hole.bounds}\")\n",
    "print(f\"Polygon exterior ring: {polygon_with_hole.exterior}\")\n",
    "print(f\"Polygon interior ring: {polygon_with_hole.interiors}\")\n",
    "print(f\"Polygon circumference: {polygon_with_hole.exterior.length}\")"
   ]
  },
  {
   "cell_type": "markdown",
   "id": "9bc0e8ef",
   "metadata": {},
   "source": [
    "As we can see above, it is again fairly straightforward to access different attributes of `Polygon` objects. Note that distance metrics will make more sense when we start working with data in projected coordinate systems.\n",
    "\n",
    "\n",
    "## Check your understanding\n",
    "\n",
    "Plot these shapes using shapely!\n",
    "\n",
    "- **Pentagon**, example coordinates: `(30, 2.01), (31.91, 0.62), (31.18, -1.63), (28.82, -1.63), (28.09, 0.62)`\n",
    "- **Triangle**\n",
    "- **Square**\n",
    "- **Circle**"
   ]
  },
  {
   "cell_type": "code",
   "execution_count": 45,
   "id": "d26e6864",
   "metadata": {},
   "outputs": [
    {
     "data": {
      "image/svg+xml": [
       "<svg xmlns=\"http://www.w3.org/2000/svg\" xmlns:xlink=\"http://www.w3.org/1999/xlink\" width=\"100.0\" height=\"100.0\" viewBox=\"27.9372 -1.7828 4.125600000000002 3.9455999999999998\" preserveAspectRatio=\"xMinYMin meet\"><g transform=\"matrix(1,0,0,-1,0,0.3799999999999999)\"><polyline fill=\"none\" stroke=\"#66cc99\" stroke-width=\"0.08251200000000004\" points=\"30.0,2.01 31.91,0.62 31.18,-1.63 28.82,-1.63 28.09,0.62 30.0,2.01\" opacity=\"0.8\" /></g></svg>"
      ],
      "text/plain": [
       "<shapely.geometry.polygon.LinearRing at 0x7f472686f2e0>"
      ]
     },
     "execution_count": 45,
     "metadata": {},
     "output_type": "execute_result"
    }
   ],
   "source": [
    "# Pentagon \n",
    "pentagon = LinearRing([(30, 2.01), (31.91, 0.62), (31.18, -1.63), (28.82, -1.63), (28.09, 0.62)])\n",
    "pentagon"
   ]
  },
  {
   "cell_type": "code",
   "execution_count": 46,
   "id": "287ed769",
   "metadata": {},
   "outputs": [
    {
     "data": {
      "image/svg+xml": [
       "<svg xmlns=\"http://www.w3.org/2000/svg\" xmlns:xlink=\"http://www.w3.org/1999/xlink\" width=\"100.0\" height=\"100.0\" viewBox=\"29.8544 -1.7755999999999998 2.2012 3.9311999999999996\" preserveAspectRatio=\"xMinYMin meet\"><g transform=\"matrix(1,0,0,-1,0,0.3799999999999999)\"><polyline fill=\"none\" stroke=\"#66cc99\" stroke-width=\"0.07862399999999999\" points=\"30.0,2.01 31.91,0.62 31.18,-1.63 30.0,2.01\" opacity=\"0.8\" /></g></svg>"
      ],
      "text/plain": [
       "<shapely.geometry.polygon.LinearRing at 0x7f470421a020>"
      ]
     },
     "execution_count": 46,
     "metadata": {},
     "output_type": "execute_result"
    }
   ],
   "source": [
    "# Triangle\n",
    "triangle = LinearRing([(30, 2.01), (31.91, 0.62), (31.18, -1.63)])\n",
    "triangle"
   ]
  },
  {
   "cell_type": "code",
   "execution_count": 50,
   "id": "9c9253ce",
   "metadata": {},
   "outputs": [
    {
     "data": {
      "image/svg+xml": [
       "<svg xmlns=\"http://www.w3.org/2000/svg\" xmlns:xlink=\"http://www.w3.org/1999/xlink\" width=\"100.0\" height=\"100.0\" viewBox=\"29.96 1.96 1.0799999999999983 1.08\" preserveAspectRatio=\"xMinYMin meet\"><g transform=\"matrix(1,0,0,-1,0,5.0)\"><polyline fill=\"none\" stroke=\"#66cc99\" stroke-width=\"0.0216\" points=\"30.0,2.0 31.0,2.0 31.0,3.0 30.0,3.0 30.0,2.0\" opacity=\"0.8\" /></g></svg>"
      ],
      "text/plain": [
       "<shapely.geometry.polygon.LinearRing at 0x7f472686dcc0>"
      ]
     },
     "execution_count": 50,
     "metadata": {},
     "output_type": "execute_result"
    }
   ],
   "source": [
    "# Square\n",
    "square = LinearRing([(30, 2), (31, 2), (31, 3), (30, 3)])\n",
    "square"
   ]
  },
  {
   "cell_type": "code",
   "execution_count": 51,
   "id": "83748ad2",
   "metadata": {},
   "outputs": [
    {
     "data": {
      "image/svg+xml": [
       "<svg xmlns=\"http://www.w3.org/2000/svg\" xmlns:xlink=\"http://www.w3.org/1999/xlink\" width=\"100.0\" height=\"100.0\" viewBox=\"0.92 0.92 2.16 2.16\" preserveAspectRatio=\"xMinYMin meet\"><g transform=\"matrix(1,0,0,-1,0,4.0)\"><path fill-rule=\"evenodd\" fill=\"#66cc99\" stroke=\"#555555\" stroke-width=\"0.0432\" opacity=\"0.6\" d=\"M 3.0,2.0 L 2.995184726672197,1.9019828596704393 L 2.9807852804032304,1.8049096779838718 L 2.9569403357322086,1.7097153227455377 L 2.923879532511287,1.6173165676349102 L 2.881921264348355,1.5286032631740023 L 2.8314696123025453,1.4444297669803978 L 2.773010453362737,1.3656067158363545 L 2.7071067811865475,1.2928932188134525 L 2.6343932841636457,1.2269895466372631 L 2.555570233019602,1.1685303876974547 L 2.471396736825998,1.118078735651645 L 2.3826834323650896,1.0761204674887133 L 2.2902846772544625,1.043059664267791 L 2.1950903220161284,1.0192147195967696 L 2.098017140329561,1.0048152733278033 L 2.0,1.0 L 1.9019828596704393,1.004815273327803 L 1.8049096779838718,1.0192147195967696 L 1.709715322745538,1.043059664267791 L 1.6173165676349104,1.0761204674887133 L 1.5286032631740023,1.118078735651645 L 1.444429766980398,1.1685303876974547 L 1.3656067158363547,1.226989546637263 L 1.2928932188134525,1.2928932188134525 L 1.2269895466372631,1.3656067158363545 L 1.1685303876974547,1.4444297669803978 L 1.118078735651645,1.528603263174002 L 1.0761204674887133,1.6173165676349102 L 1.0430596642677912,1.7097153227455375 L 1.0192147195967696,1.8049096779838714 L 1.0048152733278033,1.9019828596704391 L 1.0,1.9999999999999998 L 1.004815273327803,2.0980171403295604 L 1.0192147195967696,2.1950903220161284 L 1.043059664267791,2.290284677254462 L 1.076120467488713,2.3826834323650896 L 1.118078735651645,2.4713967368259975 L 1.1685303876974547,2.555570233019602 L 1.226989546637263,2.6343932841636453 L 1.2928932188134523,2.7071067811865475 L 1.365606715836354,2.773010453362737 L 1.4444297669803978,2.8314696123025453 L 1.528603263174002,2.881921264348355 L 1.6173165676349097,2.9238795325112865 L 1.7097153227455375,2.9569403357322086 L 1.8049096779838714,2.9807852804032304 L 1.9019828596704396,2.995184726672197 L 1.9999999999999998,3.0 L 2.09801714032956,2.995184726672197 L 2.1950903220161284,2.9807852804032304 L 2.290284677254462,2.956940335732209 L 2.38268343236509,2.9238795325112865 L 2.4713967368259975,2.881921264348355 L 2.5555702330196017,2.8314696123025453 L 2.6343932841636457,2.773010453362737 L 2.7071067811865475,2.707106781186548 L 2.773010453362737,2.6343932841636457 L 2.8314696123025453,2.555570233019602 L 2.881921264348355,2.471396736825998 L 2.9238795325112865,2.3826834323650905 L 2.9569403357322086,2.2902846772544625 L 2.9807852804032304,2.195090322016129 L 2.995184726672197,2.0980171403295604 L 3.0,2.0 z\" /></g></svg>"
      ],
      "text/plain": [
       "<shapely.geometry.polygon.Polygon at 0x7f47041c02b0>"
      ]
     },
     "execution_count": 51,
     "metadata": {},
     "output_type": "execute_result"
    }
   ],
   "source": [
    "# Circle (using a buffer around a point)\n",
    "circle = Point(2, 2).buffer(1.0)\n",
    "circle"
   ]
  },
  {
   "cell_type": "markdown",
   "id": "fb7cc9e4",
   "metadata": {},
   "source": [
    "## Geometry collections (optional)\n",
    "\n",
    "Sometimes, it can be useful to store multiple geometries (for example, several\n",
    "points or several polygons) in a single feature. See, for instance, the\n",
    "[example of Tyrol above](#multipolygons). Its two parts share the same\n",
    "attributes, and together are equivalent to any of the other provinces of\n",
    "Austria. Semantically, it would not make sense to store the two polygons in\n",
    "separate rows. If expressed as a MultiPolygon, Tyrol would represent one\n",
    "row of information in the attribute table with multiple polygons attached.\n",
    "\n",
    "\n",
    ":::{caution}\n",
    "By convention, data sets should always consist of either single- or\n",
    "multi-geometries. Some file formats enforce this, and many GIS tools refuse\n",
    "operation on data sets with mixed single- and multi-geometries.\n",
    "\n",
    "If one feature in a data set is a MultiGeometry, all other features should be\n",
    "converted, too. All single geometries can be expressed as a collection of one\n",
    "item.\n",
    ":::\n",
    "\n",
    "\n",
    "In shapely, collections of points are implemented as `MultiPoint` geometries,\n",
    "collections of lines as `MultiLineString` geometries, and collections of\n",
    "polygons as `MultiPolygon` geometries."
   ]
  },
  {
   "cell_type": "code",
   "execution_count": 52,
   "id": "b4e17319",
   "metadata": {},
   "outputs": [
    {
     "name": "stdout",
     "output_type": "stream",
     "text": [
      "MULTIPOINT (2.2 4.2, 7.2 -25.1, 9.26 -2.456)\n",
      "MULTILINESTRING ((2.2 4.2, 7.2 -25.1), (7.2 -25.1, 9.26 -2.456))\n"
     ]
    }
   ],
   "source": [
    "from shapely.geometry import MultiPoint, MultiLineString, MultiPolygon\n",
    "\n",
    "# Create a MultiPoint object of our points 1,2 and 3\n",
    "multipoint = MultiPoint([point1, point2, point3])\n",
    "\n",
    "# We can also create a MultiLineString with two lines\n",
    "line1 = LineString([point1, point2])\n",
    "line2 = LineString([point2, point3])\n",
    "multiline = MultiLineString([line1, line2])\n",
    "\n",
    "print(multipoint)\n",
    "print(multiline)"
   ]
  },
  {
   "cell_type": "code",
   "execution_count": 53,
   "id": "b28e22f7",
   "metadata": {},
   "outputs": [
    {
     "data": {
      "image/svg+xml": [
       "<svg xmlns=\"http://www.w3.org/2000/svg\" xmlns:xlink=\"http://www.w3.org/1999/xlink\" width=\"100.0\" height=\"100.0\" viewBox=\"1.028 -26.272000000000002 9.404 31.644000000000002\" preserveAspectRatio=\"xMinYMin meet\"><g transform=\"matrix(1,0,0,-1,0,-20.900000000000002)\"><g><circle cx=\"2.2\" cy=\"4.2\" r=\"0.9493199999999999\" stroke=\"#555555\" stroke-width=\"0.31644\" fill=\"#66cc99\" opacity=\"0.6\" /><circle cx=\"7.2\" cy=\"-25.1\" r=\"0.9493199999999999\" stroke=\"#555555\" stroke-width=\"0.31644\" fill=\"#66cc99\" opacity=\"0.6\" /><circle cx=\"9.26\" cy=\"-2.456\" r=\"0.9493199999999999\" stroke=\"#555555\" stroke-width=\"0.31644\" fill=\"#66cc99\" opacity=\"0.6\" /></g></g></svg>"
      ],
      "text/plain": [
       "<shapely.geometry.multipoint.MultiPoint at 0x7f4726868ee0>"
      ]
     },
     "execution_count": 53,
     "metadata": {},
     "output_type": "execute_result"
    }
   ],
   "source": [
    "multipoint"
   ]
  },
  {
   "cell_type": "markdown",
   "id": "71679f7c",
   "metadata": {},
   "source": [
    "`MultiPolygons` are constructed in a similar manner. Let’s create a bounding box\n",
    "for ‘the world’ by combining two separate polygons that represent the western and\n",
    "eastern hemispheres."
   ]
  },
  {
   "cell_type": "code",
   "execution_count": 54,
   "id": "a4fa073b",
   "metadata": {},
   "outputs": [
    {
     "name": "stdout",
     "output_type": "stream",
     "text": [
      "POLYGON ((-180 90, -180 -90, 0 -90, 0 90, -180 90))\n"
     ]
    },
    {
     "data": {
      "image/svg+xml": [
       "<svg xmlns=\"http://www.w3.org/2000/svg\" xmlns:xlink=\"http://www.w3.org/1999/xlink\" width=\"194.39999999999998\" height=\"194.4\" viewBox=\"-187.2 -97.2 194.39999999999998 194.4\" preserveAspectRatio=\"xMinYMin meet\"><g transform=\"matrix(1,0,0,-1,0,0.0)\"><path fill-rule=\"evenodd\" fill=\"#66cc99\" stroke=\"#555555\" stroke-width=\"2.0\" opacity=\"0.6\" d=\"M -180.0,90.0 L -180.0,-90.0 L 0.0,-90.0 L 0.0,90.0 L -180.0,90.0 z\" /></g></svg>"
      ],
      "text/plain": [
       "<shapely.geometry.polygon.Polygon at 0x7f472686a560>"
      ]
     },
     "execution_count": 54,
     "metadata": {},
     "output_type": "execute_result"
    }
   ],
   "source": [
    "# Let’s create the exterior of the western part of the world\n",
    "western_hemisphere = Polygon([(-180, 90), (-180, -90), (0, -90), (0, 90)])\n",
    "print(western_hemisphere)\n",
    "western_hemisphere"
   ]
  },
  {
   "cell_type": "markdown",
   "id": "8288ef43",
   "metadata": {},
   "source": [
    "Shapely has a short-hand function for creating rectangular polygons, ‘boxes’. It\n",
    "can be used, for instance, to create [bounding\n",
    "boxes](https://en.wikipedia.org/wiki/Minimum_bounding_box) using minimum and\n",
    "maximum x and y coordinates. \n",
    "\n",
    "Let’s use\n",
    "[shapely.geometry.box()](https://shapely.readthedocs.io/en/stable/manual.html#shapely.geometry.box)\n",
    "for creating the polygon representing the the eastern hemisphere:"
   ]
  },
  {
   "cell_type": "code",
   "execution_count": 55,
   "id": "71cd8bad",
   "metadata": {},
   "outputs": [
    {
     "name": "stdout",
     "output_type": "stream",
     "text": [
      "POLYGON ((180 -90, 180 90, 0 90, 0 -90, 180 -90))\n"
     ]
    },
    {
     "data": {
      "image/svg+xml": [
       "<svg xmlns=\"http://www.w3.org/2000/svg\" xmlns:xlink=\"http://www.w3.org/1999/xlink\" width=\"194.39999999999998\" height=\"194.4\" viewBox=\"-7.2 -97.2 194.39999999999998 194.4\" preserveAspectRatio=\"xMinYMin meet\"><g transform=\"matrix(1,0,0,-1,0,0.0)\"><path fill-rule=\"evenodd\" fill=\"#66cc99\" stroke=\"#555555\" stroke-width=\"2.0\" opacity=\"0.6\" d=\"M 180.0,-90.0 L 180.0,90.0 L 0.0,90.0 L 0.0,-90.0 L 180.0,-90.0 z\" /></g></svg>"
      ],
      "text/plain": [
       "<shapely.geometry.polygon.Polygon at 0x7f472686dde0>"
      ]
     },
     "execution_count": 55,
     "metadata": {},
     "output_type": "execute_result"
    }
   ],
   "source": [
    "from shapely.geometry import box\n",
    "min_x = 0\n",
    "max_x = 180\n",
    "min_y = -90\n",
    "max_y = 90\n",
    "\n",
    "eastern_hemisphere = box(min_x, min_y, max_x, max_y)\n",
    "\n",
    "print(eastern_hemisphere)\n",
    "eastern_hemisphere"
   ]
  },
  {
   "cell_type": "markdown",
   "id": "356cf4a8",
   "metadata": {},
   "source": [
    "Finally, we can combine the two polygons into a MultiPolygon:"
   ]
  },
  {
   "cell_type": "code",
   "execution_count": 56,
   "id": "8f4ccaee",
   "metadata": {},
   "outputs": [
    {
     "name": "stdout",
     "output_type": "stream",
     "text": [
      "MULTIPOLYGON (((-180 90, -180 -90, 0 -90, 0 90, -180 90)), ((180 -90, 180 90, 0 90, 0 -90, 180 -90)))\n"
     ]
    },
    {
     "data": {
      "image/svg+xml": [
       "<svg xmlns=\"http://www.w3.org/2000/svg\" xmlns:xlink=\"http://www.w3.org/1999/xlink\" width=\"300\" height=\"208.8\" viewBox=\"-194.4 -104.4 388.8 208.8\" preserveAspectRatio=\"xMinYMin meet\"><g transform=\"matrix(1,0,0,-1,0,0.0)\"><g><path fill-rule=\"evenodd\" fill=\"#ff3333\" stroke=\"#555555\" stroke-width=\"2.592\" opacity=\"0.6\" d=\"M -180.0,90.0 L -180.0,-90.0 L 0.0,-90.0 L 0.0,90.0 L -180.0,90.0 z\" /><path fill-rule=\"evenodd\" fill=\"#ff3333\" stroke=\"#555555\" stroke-width=\"2.592\" opacity=\"0.6\" d=\"M 180.0,-90.0 L 180.0,90.0 L 0.0,90.0 L 0.0,-90.0 L 180.0,-90.0 z\" /></g></g></svg>"
      ],
      "text/plain": [
       "<shapely.geometry.multipolygon.MultiPolygon at 0x7f47252cece0>"
      ]
     },
     "execution_count": 56,
     "metadata": {},
     "output_type": "execute_result"
    }
   ],
   "source": [
    "# Let’s create our MultiPolygon.\n",
    "# Pass multiple Polygon objects as a list\n",
    "multipolygon = MultiPolygon([western_hemisphere, eastern_hemisphere])\n",
    "\n",
    "print(multipolygon)\n",
    "multipolygon"
   ]
  },
  {
   "cell_type": "markdown",
   "id": "3b1cc0b4",
   "metadata": {},
   "source": [
    "Multi-geometries are in many ways similar to simple geometries, like the ones we\n",
    "created earlier. The main difference is that they can combine multiple geometric\n",
    "primitives into one feature.\n",
    "\n",
    "\n",
    "## Convex hull and envelope\n",
    "\n",
    "A ‘convex hull’ refers to the smallest possible\n",
    "[convex](https://en.wikipedia.org/wiki/Convex_set) polygon that can contain a\n",
    "geometry or a set of geometries. Alongside bounding boxes, convex hulls are\n",
    "useful to describe the extent of data sets."
   ]
  },
  {
   "cell_type": "code",
   "execution_count": 57,
   "id": "09343ff1",
   "metadata": {},
   "outputs": [
    {
     "data": {
      "image/svg+xml": [
       "<svg xmlns=\"http://www.w3.org/2000/svg\" xmlns:xlink=\"http://www.w3.org/1999/xlink\" width=\"100.0\" height=\"100.0\" viewBox=\"1.028 -26.272000000000002 9.404 31.644000000000002\" preserveAspectRatio=\"xMinYMin meet\"><g transform=\"matrix(1,0,0,-1,0,-20.900000000000002)\"><g><circle cx=\"2.2\" cy=\"4.2\" r=\"0.9493199999999999\" stroke=\"#555555\" stroke-width=\"0.31644\" fill=\"#66cc99\" opacity=\"0.6\" /><circle cx=\"7.2\" cy=\"-25.1\" r=\"0.9493199999999999\" stroke=\"#555555\" stroke-width=\"0.31644\" fill=\"#66cc99\" opacity=\"0.6\" /><circle cx=\"9.26\" cy=\"-2.456\" r=\"0.9493199999999999\" stroke=\"#555555\" stroke-width=\"0.31644\" fill=\"#66cc99\" opacity=\"0.6\" /></g></g></svg>"
      ],
      "text/plain": [
       "<shapely.geometry.multipoint.MultiPoint at 0x7f4726868ee0>"
      ]
     },
     "execution_count": 57,
     "metadata": {},
     "output_type": "execute_result"
    }
   ],
   "source": [
    "multipoint"
   ]
  },
  {
   "cell_type": "code",
   "execution_count": 58,
   "id": "7ed0884c",
   "metadata": {},
   "outputs": [
    {
     "data": {
      "image/svg+xml": [
       "<svg xmlns=\"http://www.w3.org/2000/svg\" xmlns:xlink=\"http://www.w3.org/1999/xlink\" width=\"100.0\" height=\"100.0\" viewBox=\"1.028 -26.272000000000002 9.404 31.644000000000002\" preserveAspectRatio=\"xMinYMin meet\"><g transform=\"matrix(1,0,0,-1,0,-20.900000000000002)\"><path fill-rule=\"evenodd\" fill=\"#66cc99\" stroke=\"#555555\" stroke-width=\"0.63288\" opacity=\"0.6\" d=\"M 7.2,-25.1 L 2.2,4.2 L 9.26,-2.456 L 7.2,-25.1 z\" /></g></svg>"
      ],
      "text/plain": [
       "<shapely.geometry.polygon.Polygon at 0x7f470422d690>"
      ]
     },
     "execution_count": 58,
     "metadata": {},
     "output_type": "execute_result"
    }
   ],
   "source": [
    "# Convex Hull\n",
    "multipoint.convex_hull"
   ]
  },
  {
   "cell_type": "code",
   "execution_count": 59,
   "id": "0720cd93",
   "metadata": {},
   "outputs": [
    {
     "data": {
      "image/svg+xml": [
       "<svg xmlns=\"http://www.w3.org/2000/svg\" xmlns:xlink=\"http://www.w3.org/1999/xlink\" width=\"100.0\" height=\"100.0\" viewBox=\"1.028 -26.272000000000002 9.404 31.644000000000002\" preserveAspectRatio=\"xMinYMin meet\"><g transform=\"matrix(1,0,0,-1,0,-20.900000000000002)\"><path fill-rule=\"evenodd\" fill=\"#66cc99\" stroke=\"#555555\" stroke-width=\"0.63288\" opacity=\"0.6\" d=\"M 2.2,-25.1 L 9.26,-25.1 L 9.26,4.2 L 2.2,4.2 L 2.2,-25.1 z\" /></g></svg>"
      ],
      "text/plain": [
       "<shapely.geometry.polygon.Polygon at 0x7f47252cc640>"
      ]
     },
     "execution_count": 59,
     "metadata": {},
     "output_type": "execute_result"
    }
   ],
   "source": [
    "# Envelope (smalles rectangular polygon around a geometry/set of geometries):\n",
    "multipoint.envelope"
   ]
  },
  {
   "cell_type": "markdown",
   "id": "8046eacb",
   "metadata": {},
   "source": [
    "## Validity of geometries\n",
    "\n",
    "As discussed on the very top of this page, already the geometric primitives have\n",
    "certain requirements. For instance, a `LineString` must consist of at least two\n",
    "points, and a `Polygon`’s [exterior shell and holes must not\n",
    "intersect](https://shapely.readthedocs.io/en/1.8.5/manual.html#polygons).\n",
    "\n",
    "Each shapely geometry has a built-in check that can be of great help, for\n",
    "instance, finding topological errors:"
   ]
  },
  {
   "cell_type": "code",
   "execution_count": 60,
   "id": "f16a2b4b",
   "metadata": {},
   "outputs": [
    {
     "name": "stdout",
     "output_type": "stream",
     "text": [
      "Is polygon valid?: True\n"
     ]
    }
   ],
   "source": [
    "validity = polygon_with_hole.is_valid\n",
    "print(f\"Is polygon valid?: {validity}\")"
   ]
  },
  {
   "cell_type": "code",
   "execution_count": null,
   "id": "110c8d6c-9d32-492b-97b9-70c9546465a8",
   "metadata": {},
   "outputs": [],
   "source": []
  }
 ],
 "metadata": {
  "kernelspec": {
   "display_name": "Python 3 (ipykernel)",
   "language": "python",
   "name": "python3"
  },
  "language_info": {
   "codemirror_mode": {
    "name": "ipython",
    "version": 3
   },
   "file_extension": ".py",
   "mimetype": "text/x-python",
   "name": "python",
   "nbconvert_exporter": "python",
   "pygments_lexer": "ipython3",
   "version": "3.10.6"
  }
 },
 "nbformat": 4,
 "nbformat_minor": 5
}
